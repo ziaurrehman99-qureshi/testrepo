{
 "cells": [
  {
   "cell_type": "markdown",
   "id": "cbabe9d3-8bc9-45a7-a848-c6739d9dfd15",
   "metadata": {},
   "source": [
    "# Data Science Tools and Ecosystem"
   ]
  },
  {
   "cell_type": "markdown",
   "id": "09732832-d0bf-4e5e-8cdc-b601487ffc2e",
   "metadata": {
    "tags": []
   },
   "source": [
    "## In this notebook, Data Science Tools and Ecosystem are summarized. This text is part of my graded assignment with Heading 2"
   ]
  },
  {
   "cell_type": "markdown",
   "id": "93efb9ef-c740-4d46-8028-43068fb1989f",
   "metadata": {},
   "source": [
    "**Objectives:**\n",
    "\n",
    "- Use of markdown cells\n",
    "- Different Heading Styles\n",
    "- Tables\n",
    "- Ordered List \n",
    "- Unordered List"
   ]
  },
  {
   "cell_type": "markdown",
   "id": "059e1499-d144-4c9b-8098-4078712bc890",
   "metadata": {},
   "source": [
    "## Some of the popular languages that Data Scientists use are:\n",
    "\n",
    "1. Python\n",
    "2. Scala\n",
    "3. Julia"
   ]
  },
  {
   "cell_type": "markdown",
   "id": "f2bfeca4-1ea6-4c63-9fc4-64f7f231295d",
   "metadata": {},
   "source": [
    "## Some of the commonly used libraries used by Data Scientists include:\n",
    "\n",
    "- Numpy\n",
    "- Pandas\n",
    "- Matplotlib"
   ]
  },
  {
   "cell_type": "markdown",
   "id": "905d5126-8b01-4b8b-a715-f28d0f039f66",
   "metadata": {},
   "source": [
    "|Data Science Tools|\n",
    "|:----------------:|\n",
    "|Jupyter|\n",
    "|RStudio|\n",
    "|Pycharm|"
   ]
  },
  {
   "cell_type": "markdown",
   "id": "1086df97-8e9d-42ac-9639-57ac4e50fad8",
   "metadata": {},
   "source": [
    "### Below are a few examples of evaluating arithmetic expressions in Python with Heading Style 3"
   ]
  },
  {
   "cell_type": "markdown",
   "id": "176c497e-592a-4cf1-92a2-9ee3399e6337",
   "metadata": {},
   "source": [
    "### This a simple arithmetic expression to mutiply then add integers"
   ]
  },
  {
   "cell_type": "code",
   "execution_count": 3,
   "id": "83e2dcc1-c5d4-4351-b653-040005df9de7",
   "metadata": {
    "tags": []
   },
   "outputs": [
    {
     "data": {
      "text/plain": [
       "17"
      ]
     },
     "execution_count": 3,
     "metadata": {},
     "output_type": "execute_result"
    }
   ],
   "source": [
    "(3*4)+5"
   ]
  },
  {
   "cell_type": "markdown",
   "id": "f4cf10d2-450b-403d-98bb-c9b61c4ebbfb",
   "metadata": {},
   "source": [
    "### This will convert 200 minutes to hours by diving by 60"
   ]
  },
  {
   "cell_type": "code",
   "execution_count": 4,
   "id": "a99e4a00-ca63-4dec-8f05-3fd763366178",
   "metadata": {
    "tags": []
   },
   "outputs": [
    {
     "data": {
      "text/plain": [
       "3.3333333333333335"
      ]
     },
     "execution_count": 4,
     "metadata": {},
     "output_type": "execute_result"
    }
   ],
   "source": [
    "200/60"
   ]
  },
  {
   "cell_type": "markdown",
   "id": "0bedaab0-e12d-43ed-94cc-9421b13e9076",
   "metadata": {
    "tags": []
   },
   "source": [
    "## Author\n",
    "#### Zia Ur Rehman"
   ]
  },
  {
   "cell_type": "code",
   "execution_count": null,
   "id": "83a19477-8ea9-4997-97f1-1d5e950a95ee",
   "metadata": {},
   "outputs": [],
   "source": []
  }
 ],
 "metadata": {
  "kernelspec": {
   "display_name": "Python",
   "language": "python",
   "name": "conda-env-python-py"
  },
  "language_info": {
   "codemirror_mode": {
    "name": "ipython",
    "version": 3
   },
   "file_extension": ".py",
   "mimetype": "text/x-python",
   "name": "python",
   "nbconvert_exporter": "python",
   "pygments_lexer": "ipython3",
   "version": "3.7.12"
  }
 },
 "nbformat": 4,
 "nbformat_minor": 5
}
